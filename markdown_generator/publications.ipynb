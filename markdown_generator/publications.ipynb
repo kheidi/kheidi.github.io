{
 "cells": [
  {
   "cell_type": "markdown",
   "metadata": {
    "deletable": true,
    "editable": true
   },
   "source": [
    "# Publications markdown generator for academicpages\n",
    "\n",
    "Takes a TSV of publications with metadata and converts them for use with [academicpages.github.io](academicpages.github.io). This is an interactive Jupyter notebook ([see more info here](http://jupyter-notebook-beginner-guide.readthedocs.io/en/latest/what_is_jupyter.html)). The core python code is also in `publications.py`. Run either from the `markdown_generator` folder after replacing `publications.tsv` with one containing your data.\n",
    "\n",
    "TODO: Make this work with BibTex and other databases of citations, rather than Stuart's non-standard TSV format and citation style.\n"
   ]
  },
  {
   "cell_type": "markdown",
   "metadata": {},
   "source": [
    "## Data format\n",
    "\n",
    "The TSV needs to have the following columns: pub_date, title, venue, excerpt, citation, site_url, and paper_url, with a header at the top. \n",
    "\n",
    "- `excerpt` and `paper_url` can be blank, but the others must have values. \n",
    "- `pub_date` must be formatted as YYYY-MM-DD.\n",
    "- `url_slug` will be the descriptive part of the .md file and the permalink URL for the page about the paper. The .md file will be `YYYY-MM-DD-[url_slug].md` and the permalink will be `https://[yourdomain]/publications/YYYY-MM-DD-[url_slug]`\n",
    "\n",
    "This is how the raw file looks (it doesn't look pretty, use a spreadsheet or other program to edit and create)."
   ]
  },
  {
   "cell_type": "code",
   "execution_count": 1,
   "metadata": {
    "collapsed": false
   },
   "outputs": [
    {
     "name": "stdout",
     "output_type": "stream",
     "text": [
      "pub_date\ttitle\tvenue\texcerpt\tcitation\turl_slug\tpaper_url\n",
      "5/18/17\tIncreasing component functionality via multi-process additive manufacturing\t\"Micro-and Nanotechnology Sensors, Systems, and Applications IX\"\tPublished while at The University of Texas at El Paso\t\"Coronel, J. L., Fehr, K. H., Kelly, D. D., Espalin, D., & Wicker, R. B. (2017). Increasing component functionality via multi-process additive manufacturing. Micro- and Nanotechnology Sensors, Systems, and Applications IX, 10194, 101941F. https://doi.org/10.1117/12.2263257\"\tadditive-manufacturing\thttps://www.spiedigitallibrary.org/conference-proceedings-of-spie/10194/101941F/Increasing-component-functionality-via-multi-process-additive-manufacturing/10.1117/12.2263257.short\n",
      "44447\tAdapting Semi-Active Prostheses to Real-World Movements: Sensing and Controlling the Dynamic Mean Ankle Moment Arm with a Variable-Stiffness Foot on Ramps and Stairs\tSensors\t\"(1) Background: Semi-active prosthetic feet can provide adaptation in different circumstances, enabling greater function with less weight and complexity than fully powered prostheses. However, determining how to control semi-active devices is still a challenge. The dynamic mean ankle moment arm (DMAMA) provides a suitable biomechanical metric, as its simplicity matches that of a semi-active device. However, it is unknown how stiffness and locomotion modes affect DMAMA, which is necessary to create closed-loop controllers for semi-active devices. In this work, we develop a method to use only a prosthesis-embedded load sensor to measure DMAMA and classify locomotion modes, with the goal of achieving mode-dependent, closed-loop control of DMAMA using a variable-stiffness prosthesis. We study how stiffness and ground incline affect the DMAMA, and we establish the feasibility of classifying locomotion modes based exclusively on the load sensor. (2) Methods: Human subjects walked on level ground, ramps, and stairs while wearing a variable-stiffness prosthesis in low-, medium-, and high-stiffness settings. We computed DMAMA from sagittal load sensor data and prosthesis geometric measurements. We used linear mixed-effects models to determine subject-independent and subject-dependent sensitivity of DMAMA to incline and stiffness. We also used a machine learning model to classify locomotion modes using only the load sensor. (3) Results: We found a positive linear sensitivity of DMAMA to stiffness on ramps and level ground. Additionally, we found a positive linear sensitivity of DMAMA to ground slope in the low- and medium-stiffness conditions and a negative interaction effect between slope and stiffness. Considerable variability suggests that applications of DMAMA as a control input should look at the running average over several strides. To examine the efficacy of real-time DMAMA-based control systems, we used a machine learning model to classify locomotion modes using only the load sensor. The classifier achieved over 95% accuracy. (4) Conclusions: Based on these findings, DMAMA has potential for use as a closed-loop control input to adapt semi-active prostheses to different locomotion modes.\"\t\"Leestma, J. K., Fehr, K. H., & Adamczyk, P. G. (2021). Adapting Semi-Active Prostheses to Real-World Movements: Sensing and Controlling the Dynamic Mean Ankle Moment Arm with a Variable-Stiffness Foot on Ramps and Stairs. Sensors, 21(18), Article 18. https://doi.org/10.3390/s21186009\"\tVSF-DMAMA\thttps://www.mdpi.com/1262848\n",
      "45456\tEstimation of minimum foot clearance using a single foot_mounted inertial sensor and personalized foot geometry scan\tScientific Reports\t\"The real-world measurement of minimum foot clearance (mFC) during the swing phase of gait is critical in efforts to understand and reduce the risk of trip-and-fall incidents in populations with gait impairments. Past research has focused on measuring clearance of a single point on a person�s foot, typically the toe�however, this may overestimate mFC and may even be the wrong region of the foot in cases of gait impairments or interventions. In this work, we present a novel method to reconstruct the swing-phase trajectory of an arbitrary number of points on a person�s shoe and estimate the instantaneous height and location of whole-foot mFC. This is achieved using a single foot-mounted inertial sensor and personalized shoe geometry scan, assuming a rigid-body IMU-shoe system. This combination allows collection and analysis using out-of-lab tests, potentially including clinical environments. Validation of single marker location using the proposed method vs. motion capture showed height errors with bias less than 0.05 mm, and 95% confidence interval of _ 8.18 to +_8.09 mm. The method is demonstrated in an example data set comparing different interventions for foot drop, and it shows clear differences among no intervention, functional electrical stimulation, and ankle�foot orthosis conditions. This method offers researchers and clinicians a rich understanding of a person�s gait by providing objective 3D foot kinematics and allowing a unique opportunity to view the regions of the foot where minimum clearance occurs. This information can contribute to a more informed recommendation of specific interventions or assistive technology than is currently possible in standard clinical practice.\"\t\"Fehr, K. H., Bartloff, J. N., Wang, Y., Hetzel, S., & Adamczyk, P. G. (2024). Estimation of minimum foot clearance using a single foot-mounted inertial sensor and personalized foot geometry scan. Scientific Reports, 14(1), 13640. https://doi.org/10.1038/s41598-024-63124-6\"\tMFC_Scan\thttps://www.nature.com/articles/s41598-024-63124-6"
     ]
    }
   ],
   "source": [
    "!cat publications.tsv"
   ]
  },
  {
   "cell_type": "markdown",
   "metadata": {},
   "source": [
    "## Import pandas\n",
    "\n",
    "We are using the very handy pandas library for dataframes."
   ]
  },
  {
   "cell_type": "code",
   "execution_count": 2,
   "metadata": {
    "collapsed": true,
    "deletable": true,
    "editable": true
   },
   "outputs": [],
   "source": [
    "import pandas as pd"
   ]
  },
  {
   "cell_type": "markdown",
   "metadata": {},
   "source": [
    "## Import TSV\n",
    "\n",
    "Pandas makes this easy with the read_csv function. We are using a TSV, so we specify the separator as a tab, or `\\t`.\n",
    "\n",
    "I found it important to put this data in a tab-separated values format, because there are a lot of commas in this kind of data and comma-separated values can get messed up. However, you can modify the import statement, as pandas also has read_excel(), read_json(), and others."
   ]
  },
  {
   "cell_type": "code",
   "execution_count": 7,
   "metadata": {
    "collapsed": false,
    "deletable": true,
    "editable": true
   },
   "outputs": [
    {
     "data": {
      "text/html": [
       "<div>\n",
       "<style scoped>\n",
       "    .dataframe tbody tr th:only-of-type {\n",
       "        vertical-align: middle;\n",
       "    }\n",
       "\n",
       "    .dataframe tbody tr th {\n",
       "        vertical-align: top;\n",
       "    }\n",
       "\n",
       "    .dataframe thead th {\n",
       "        text-align: right;\n",
       "    }\n",
       "</style>\n",
       "<table border=\"1\" class=\"dataframe\">\n",
       "  <thead>\n",
       "    <tr style=\"text-align: right;\">\n",
       "      <th></th>\n",
       "      <th>pub_date</th>\n",
       "      <th>title</th>\n",
       "      <th>venue</th>\n",
       "      <th>excerpt</th>\n",
       "      <th>citation</th>\n",
       "      <th>url_slug</th>\n",
       "      <th>paper_url</th>\n",
       "    </tr>\n",
       "  </thead>\n",
       "  <tbody>\n",
       "    <tr>\n",
       "      <th>0</th>\n",
       "      <td>5/18/17</td>\n",
       "      <td>Increasing component functionality via multi-p...</td>\n",
       "      <td>Micro-and Nanotechnology Sensors, Systems, and...</td>\n",
       "      <td>Published while at The University of Texas at ...</td>\n",
       "      <td>Coronel, J. L., Fehr, K. H., Kelly, D. D., Esp...</td>\n",
       "      <td>additive-manufacturing</td>\n",
       "      <td>https://www.spiedigitallibrary.org/conference-...</td>\n",
       "    </tr>\n",
       "    <tr>\n",
       "      <th>1</th>\n",
       "      <td>9/8/21</td>\n",
       "      <td>Adapting Semi-Active Prostheses to Real-World ...</td>\n",
       "      <td>Sensors</td>\n",
       "      <td>(1) Background: Semi-active prosthetic feet ca...</td>\n",
       "      <td>Leestma, J. K., Fehr, K. H., &amp; Adamczyk, P. G....</td>\n",
       "      <td>VSF-DMAMA</td>\n",
       "      <td>https://www.mdpi.com/1262848</td>\n",
       "    </tr>\n",
       "    <tr>\n",
       "      <th>2</th>\n",
       "      <td>6/13/24</td>\n",
       "      <td>Estimation of minimum foot clearance using a s...</td>\n",
       "      <td>Scientific Reports</td>\n",
       "      <td>The real-world measurement of minimum foot cle...</td>\n",
       "      <td>Fehr, K. H., Bartloff, J. N., Wang, Y., Hetzel...</td>\n",
       "      <td>MFC_Scan</td>\n",
       "      <td>https://www.nature.com/articles/s41598-024-631...</td>\n",
       "    </tr>\n",
       "  </tbody>\n",
       "</table>\n",
       "</div>"
      ],
      "text/plain": [
       "  pub_date                                              title  \\\n",
       "0  5/18/17  Increasing component functionality via multi-p...   \n",
       "1   9/8/21  Adapting Semi-Active Prostheses to Real-World ...   \n",
       "2  6/13/24  Estimation of minimum foot clearance using a s...   \n",
       "\n",
       "                                               venue  \\\n",
       "0  Micro-and Nanotechnology Sensors, Systems, and...   \n",
       "1                                            Sensors   \n",
       "2                                 Scientific Reports   \n",
       "\n",
       "                                             excerpt  \\\n",
       "0  Published while at The University of Texas at ...   \n",
       "1  (1) Background: Semi-active prosthetic feet ca...   \n",
       "2  The real-world measurement of minimum foot cle...   \n",
       "\n",
       "                                            citation                url_slug  \\\n",
       "0  Coronel, J. L., Fehr, K. H., Kelly, D. D., Esp...  additive-manufacturing   \n",
       "1  Leestma, J. K., Fehr, K. H., & Adamczyk, P. G....               VSF-DMAMA   \n",
       "2  Fehr, K. H., Bartloff, J. N., Wang, Y., Hetzel...                MFC_Scan   \n",
       "\n",
       "                                           paper_url  \n",
       "0  https://www.spiedigitallibrary.org/conference-...  \n",
       "1                       https://www.mdpi.com/1262848  \n",
       "2  https://www.nature.com/articles/s41598-024-631...  "
      ]
     },
     "execution_count": 7,
     "metadata": {},
     "output_type": "execute_result"
    }
   ],
   "source": [
    "publications = pd.read_csv(\"publications.tsv\", sep=\"\\t\", header=0)\n",
    "publications\n"
   ]
  },
  {
   "cell_type": "markdown",
   "metadata": {},
   "source": [
    "## Escape special characters\n",
    "\n",
    "YAML is very picky about how it takes a valid string, so we are replacing single and double quotes (and ampersands) with their HTML encoded equivilents. This makes them look not so readable in raw format, but they are parsed and rendered nicely."
   ]
  },
  {
   "cell_type": "code",
   "execution_count": 26,
   "metadata": {
    "collapsed": true,
    "deletable": true,
    "editable": true
   },
   "outputs": [],
   "source": [
    "html_escape_table = {\n",
    "    \"&\": \"&amp;\",\n",
    "    '\"': \"&quot;\",\n",
    "    \"'\": \"&apos;\"\n",
    "    }\n",
    "\n",
    "def html_escape(text):\n",
    "    \"\"\"Produce entities within text.\"\"\"\n",
    "    return \"\".join(html_escape_table.get(c,c) for c in text)"
   ]
  },
  {
   "cell_type": "markdown",
   "metadata": {},
   "source": [
    "## Creating the markdown files\n",
    "\n",
    "This is where the heavy lifting is done. This loops through all the rows in the TSV dataframe, then starts to concatentate a big string (```md```) that contains the markdown for each type. It does the YAML metadata first, then does the description for the individual page."
   ]
  },
  {
   "cell_type": "code",
   "execution_count": 27,
   "metadata": {
    "collapsed": false,
    "deletable": true,
    "editable": true
   },
   "outputs": [],
   "source": [
    "import os\n",
    "for row, item in publications.iterrows():\n",
    "    \n",
    "    md_filename = str(item.pub_date) + \"-\" + item.url_slug + \".md\"\n",
    "    html_filename = str(item.pub_date) + \"-\" + item.url_slug\n",
    "    year = item.pub_date[:4]\n",
    "    \n",
    "    ## YAML variables\n",
    "    \n",
    "    md = \"---\\ntitle: \\\"\"   + item.title + '\"\\n'\n",
    "    \n",
    "    md += \"\"\"collection: publications\"\"\"\n",
    "    \n",
    "    md += \"\"\"\\npermalink: /publication/\"\"\" + html_filename\n",
    "    \n",
    "    if len(str(item.excerpt)) > 5:\n",
    "        md += \"\\nexcerpt: '\" + html_escape(item.excerpt) + \"'\"\n",
    "    \n",
    "    md += \"\\ndate: \" + str(item.pub_date) \n",
    "    \n",
    "    md += \"\\nvenue: '\" + html_escape(item.venue) + \"'\"\n",
    "    \n",
    "    if len(str(item.paper_url)) > 5:\n",
    "        md += \"\\npaperurl: '\" + item.paper_url + \"'\"\n",
    "    \n",
    "    md += \"\\ncitation: '\" + html_escape(item.citation) + \"'\"\n",
    "    \n",
    "    md += \"\\n---\"\n",
    "    \n",
    "    ## Markdown description for individual page\n",
    "        \n",
    "    if len(str(item.excerpt)) > 5:\n",
    "        md += \"\\n\" + html_escape(item.excerpt) + \"\\n\"\n",
    "    \n",
    "    if len(str(item.paper_url)) > 5:\n",
    "        md += \"\\n[Download paper here](\" + item.paper_url + \")\\n\" \n",
    "        \n",
    "    md += \"\\nRecommended citation: \" + item.citation\n",
    "    \n",
    "    md_filename = os.path.basename(md_filename)\n",
    "       \n",
    "    with open(\"../_publications/\" + md_filename, 'w') as f:\n",
    "        f.write(md)"
   ]
  },
  {
   "cell_type": "markdown",
   "metadata": {},
   "source": [
    "These files are in the publications directory, one directory below where we're working from."
   ]
  },
  {
   "cell_type": "code",
   "execution_count": 28,
   "metadata": {
    "collapsed": false,
    "deletable": true,
    "editable": true
   },
   "outputs": [
    {
     "name": "stdout",
     "output_type": "stream",
     "text": [
      "2017-05-18-additive-manufacturing.md 2021-09-08-VSF-DMAMA.md\n"
     ]
    }
   ],
   "source": [
    "!ls ../_publications/"
   ]
  },
  {
   "cell_type": "code",
   "execution_count": 29,
   "metadata": {
    "collapsed": false,
    "deletable": true,
    "editable": true
   },
   "outputs": [
    {
     "name": "stdout",
     "output_type": "stream",
     "text": [
      "cat: ../_publications/2009-10-01-paper-title-number-1.md: No such file or directory\n"
     ]
    }
   ],
   "source": [
    "!cat ../_publications/2009-10-01-paper-title-number-1.md"
   ]
  },
  {
   "cell_type": "code",
   "execution_count": null,
   "metadata": {
    "collapsed": true,
    "deletable": true,
    "editable": true
   },
   "outputs": [],
   "source": []
  }
 ],
 "metadata": {
  "interpreter": {
   "hash": "d4260626900535b01b1cf23fba2752d616990185ab77669cb0570f26c933d96c"
  },
  "kernelspec": {
   "display_name": "Python 3.7.4 ('base')",
   "language": "python",
   "name": "python3"
  },
  "language_info": {
   "codemirror_mode": {
    "name": "ipython",
    "version": 3
   },
   "file_extension": ".py",
   "mimetype": "text/x-python",
   "name": "python",
   "nbconvert_exporter": "python",
   "pygments_lexer": "ipython3",
   "version": "3.7.4"
  }
 },
 "nbformat": 4,
 "nbformat_minor": 0
}
